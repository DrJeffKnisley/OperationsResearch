{
 "cells": [
  {
   "cell_type": "markdown",
   "metadata": {},
   "source": [
    "<h1 align='center'  style = 'margin-bottom: 0px'> The Pencil _Shaft_ Factory </h1>\n",
    "<h2 align='center'  style = 'margin-top: 0px'> The Graphical Method for <br/> Linear Programs <br/><i>Interactions Only</i> </h2>\n",
    "<p>&nbsp;</p>\n",
    "\n",
    "__Note__: This notebook contains only the _interactions_ for the Main Example (intended for use in lecture).  \n",
    "\n",
    "We begin by __import__ing some Python modules we will use below:  Place your cursor in the cell below (i.e., select the cell), and then execute __[ctrl]-[enter]__."
   ]
  },
  {
   "cell_type": "code",
   "execution_count": null,
   "metadata": {
    "collapsed": true
   },
   "outputs": [],
   "source": [
    "%matplotlib notebook\n",
    "import matplotlib.pyplot as plt\n",
    "from mpl_toolkits.mplot3d import Axes3D\n",
    "\n",
    "import numpy as np \n",
    "from ipywidgets import interact"
   ]
  },
  {
   "cell_type": "markdown",
   "metadata": {},
   "source": [
    "<p>&nbsp;</p>\n",
    "\n",
    "## The Linear Program\n",
    "Solving our main example means finding the solution(s) to the following linear program:  \n",
    "$$ maximize \\; z = 2x+3y \\quad subject \\; to \\; (x,y) \\in \\Omega $$ \n",
    "\n",
    "where the feasible region $\\Omega$ is given by \n",
    "$$ \\Omega = \\left\\lbrace (x,y)\\in\\mathbb{R}^2 \\; \\; \\middle\\vert\n",
    "      \\begin{array}{c} \n",
    "        x + \\; y  \\le  20 \\\\ \n",
    "        x + 2y  \\le 30 \\\\\n",
    "        x  \\le 15 \\\\ \n",
    "        y  \\le 2x \\\\ \n",
    "        x \\ge 0, \\quad y \\ge 0\n",
    "      \\end{array}\n",
    "    \\right\\rbrace \n",
    "$$\n",
    "Similar to the way in which we stated the problem, there are 2 tasks we must address\n",
    "\n",
    "1. Determining the structure of the Feasible Region. \n",
    "\n",
    "2. Finding where the largest value of $z$ occurs over the Feasible Region. \n",
    "\n",
    "Let's now consider the role of the objective function (issue #2). \n",
    "\n",
    "In some sense, if we know all the vertices of the Feasible region, then we need only substitute them respectively into the objective and determine which produces the largest value of $z$.    This works great for small examples, but remember that real world applications involves tens, hundreds, thousands, and even millions of variables, and in such contexts, a feasible region can have arbitrarily huge numbers of vertices. \n",
    "\n",
    "<div align = \"center\" style = \"font-size:larger; color:blue; margin-top:20px; margin-bottom:20px\"> \n",
    "Our goal is a method that computes vertices only as long as the objective is increasing. </div>\n",
    "\n",
    "This method will be called the _Simplex Method_, and its central feature is that by tracking the objective function we can arrive at a solution to a linear program via calculation of only a relatively few of the vertices of the feasible region. \n",
    "\n",
    "<p>&nbsp;</p>\n",
    "\n",
    "## Optimizating an Objective over a Feasible Region \n",
    "First off, if $\\Omega \\subset \\mathbb{R}^n$, then the objective as an equation introduces an additional variable $z$.  Moreover, since the objective is a linear function, the linear program is actually asking for a vertex with largest possible $z$ on a polytope in $n+1$ dimensional space.   \n",
    "\n",
    "For example, when we write the objective function in equation form, such as in  \n",
    "$$ maximize \\; z = 2x+3y \\quad instead\\;of\\quad maximize 2x+3y,$$\n",
    "we are actually adding a new constraint.  Indeed, in our main example, the linear program \n",
    "\\begin{eqnarray*} \n",
    "maximize   & z = 2x+3y \\\\\n",
    "subject \\; to & x + \\; y  \\le  20 \\\\ \n",
    "              & x + 2y  \\le 30 \\\\\n",
    "              & x  \\le 15 \\\\ \n",
    "              & y  \\le 2x \\\\ \n",
    "              & x\\ge 0, \\quad y \\ge 0\n",
    "\\end{eqnarray*}\n",
    "should -- and does -- have exactly the same solution as the linear program \n",
    "\\begin{eqnarray*} \n",
    "maximize   & z  \\\\\n",
    "subject \\; to & z = 2x+3y  \\\\ \n",
    "              & x + \\; y  \\le  20 \\\\ \n",
    "              & x + 2y  \\le 30 \\\\\n",
    "              & x  \\le 15 \\\\ \n",
    "              & y  \\le 2x \\\\ \n",
    "              & x\\ge 0, \\quad y \\ge 0\n",
    "\\end{eqnarray*}\n",
    "However, this last linear program is in _3 dimensions_ (i.e., in the 3 independent variables $x,y,z$).  Indeed, we can write it in the form \n",
    "\\begin{eqnarray*} \n",
    "maximize   & z  \\\\\n",
    "subject \\; to & 2x+3y    & - z & = 0  \\\\ \n",
    "              & x + \\; y &     &  \\le  20 \\\\ \n",
    "              & x + 2y   &     & \\le 30 \\\\\n",
    "              & x        &     & \\le 15 \\\\ \n",
    "              & -2x + y  &     &  \\le 0 \\\\ \n",
    "              & x\\ge 0,  &     & y \\ge 0\n",
    "\\end{eqnarray*}\n",
    "The feasible region for this last program, which we will call $\\Omega'$, is still a polygon, but in the plane $z = 2x+3y$ rather than in the xy-plane. The objective is to find the vertex of $\\Omega'$ with the largest $z$ coordinate, which in our main example is $(10,10,50)$.   \n",
    "\n",
    "All this is illustrated below: "
   ]
  },
  {
   "cell_type": "code",
   "execution_count": null,
   "metadata": {
    "collapsed": true
   },
   "outputs": [],
   "source": [
    "vertices = [ (0,0), (15,0), (15,5), (10,10), (6,12), (0,0) ]\n",
    "XY = np.array(vertices).T\n",
    "X,Y = XY[0], XY[1]\n",
    "Z = 2*X+3*Y\n",
    "\n",
    "fig = plt.figure(figsize = (8,8))\n",
    "ax3d = fig.gca(projection='3d')\n",
    "\n",
    "ax3d.plot_trisurf(X, Y, Z, linewidth=1, antialiased=True, alpha = 0.5, color='cyan', shade = False)\n",
    "ax3d.plot_trisurf(X, Y, 0*Z, antialiased = True, color = 'cyan', alpha = 0.5)\n",
    "ax3d.plot_trisurf([0,17,17,0],[0,0,14,14], [0,34,76,42], antialiased = True, color = 'pink', alpha = 0.25, shade = False)\n",
    "\n",
    "ax3d.set_xlabel(\"x\"); ax3d.set_ylabel(\"y\"); ax3d.set_zlabel(\"z\")\n",
    "for i in range(len(X)):\n",
    "    ax3d.plot([X[i],X[i]],[Y[i],Y[i]],[0,Z[i]], color='darkblue', alpha = 0.5)\n",
    "ax3d.plot(X,Y,   Z, color = 'blue')#, alpha = 0.5)\n",
    "ax3d.plot(X,Y, 0*Z, color = 'darkblue', alpha = 0.5)\n",
    "ax3d.scatter([10],[10],[50], color='red')\n",
    "ax3d.text(5,5,25, \"$\\Omega'$\", fontsize = 14)\n",
    "ax3d.text(12,12,60, '$z = 2x+3y$', fontsize = 14, color = 'pink')\n",
    "ax3d.text(10,10,50,'  $(10,10,50)$')\n",
    "ax3d.text(10,4,0, '$\\Omega$', fontsize = 14)\n",
    "ax3d.set_xlim(0,16); ax3d.set_ylim(0,14);ax3d.set_zlim(0,55)\n",
    "ax3d.set_title('$(x*,y*,z*) = (10,10,50)$\\n', fontsize = 14)\n"
   ]
  },
  {
   "cell_type": "markdown",
   "metadata": {},
   "source": [
    "Indeed, in general, if we write the objective in equation form $z = ...$, then we are actually adding a constraint and creating a space that is one dimension higher than the original.  This brings up a very important concept in operations research in general.  \n",
    "\n",
    "<div align = \"center\" style=\"margin-top:20px;margin-bottom:20px;font-size:larger;color:blue\"> Solving linear and nonlinear programs often means creating new, often 'artificial' variables <br/> and working in typically much higher dimensional spaces than the original problem.</div>\n",
    "\n",
    "However, rather than think of a \"new\" feasible region, $\\Omega'$, we instead simply think of the original feasible region $\\Omega$ subjected to the objective function $2x+3y$, which maps $\\Omega$ into the plane with equation $z = 2x+3y$. "
   ]
  },
  {
   "cell_type": "code",
   "execution_count": null,
   "metadata": {
    "collapsed": true
   },
   "outputs": [],
   "source": [
    "vertices = [ (0,0), (15,0), (15,5), (10,10), (6,12), (0,0) ]\n",
    "XY = np.array(vertices).T\n",
    "X,Y = XY[0], XY[1]\n",
    "Z = 2*X+3*Y\n",
    "\n",
    "fig = plt.figure(figsize = (8,8))\n",
    "ax3d = fig.gca(projection='3d')\n",
    "\n",
    "def LPpolyhedron(ax):\n",
    "    ax.plot_trisurf(X, Y, Z, linewidth=1, antialiased=True, alpha = 0.5, color='cyan', shade = False)\n",
    "    ax.plot_trisurf(X, Y, 0*Z, antialiased = True, color = 'cyan', alpha = 0.5)\n",
    "    ax.set_xlabel(\"x\"); ax.set_ylabel(\"y\"); ax.set_zlabel(\"z\")\n",
    "    for i in range(len(X)):\n",
    "        ax.plot([X[i],X[i]],[Y[i],Y[i]],[0,Z[i]], color='darkblue', alpha = 0.5)\n",
    "    ax.plot(X,Y,   Z, color = 'blue')#, alpha = 0.5)\n",
    "    ax.plot(X,Y, 0*Z, color = 'darkblue', alpha = 0.5)\n",
    "    ax.scatter([10],[10],[50], color='red')\n",
    "    ax.text(5,5,40, \"$z = 2x+3y$\", fontsize = 14)\n",
    "    ax.text(10,10,50,'  $(10,10,50)$')\n",
    "    ax.text(12,6,0, '$\\Omega$', fontsize = 14)\n",
    "    ax.set_xlim(0,16); ax.set_ylim(0,14);ax.set_zlim(0,55)\n",
    "    ax.set_title('$(x*,y*,z*) = (10,10,50)$\\n', fontsize = 14)\n",
    "LPpolyhedron(ax3d)"
   ]
  },
  {
   "cell_type": "markdown",
   "metadata": {},
   "source": [
    "The advantage of this latter conceptualization of a linear program is that it allows us to work directly with $\\Omega$ in the xy-plane, and to think of the added dimensionality in terms of _level curves_ or _isolines_ of the objective rather than as a new object in a higher dimensional context.  \n",
    "\n",
    "That is, it is better to think of the objective function as a _ __ family of level curves__ _.  For example, the objective \n",
    "$ z = 2x+3y$ can be considered to be the set of all lines of the form $$ 2x+3y= k \\qquad and \\; z = k.$$\n",
    "\n",
    "_Notice that as z increases, the level curves move from vertex to vertex until a maximum is achieved._"
   ]
  },
  {
   "cell_type": "code",
   "execution_count": null,
   "metadata": {
    "collapsed": true,
    "scrolled": true
   },
   "outputs": [],
   "source": [
    "fig = plt.figure(figsize = (8,8))\n",
    "ax3d = fig.gca(projection='3d')\n",
    "\n",
    "LPpolyhedron(ax3d)\n",
    "\n",
    "inPlane = None\n",
    "onSurf = None\n",
    "lbl1, lbl2 = None, None\n",
    "def LevelCurve( k = 0 ):\n",
    "    global inPlane, onSurf, lbl1, lbl2\n",
    "    try:\n",
    "        ax3d.lines.remove(inPlane[0])\n",
    "        ax3d.lines.remove(onSurf[0])\n",
    "        ax3d.texts.remove(lbl1)\n",
    "        ax3d.texts.remove(lbl2)\n",
    "    except:\n",
    "        pass\n",
    "    if( k < 30):\n",
    "        xr, yr = k/2, 0\n",
    "    else:  #( 30 <= k < 55 ):\n",
    "        xr, yr = 15, k/3 - 10\n",
    "        \n",
    "    inPlane = ax3d.plot([k/8,xr],[k/4,yr], color='magenta')\n",
    "    onSurf  = ax3d.plot([k/8,k/8,xr,xr],[k/4,k/4,yr,yr],[0,k,k,0], color='magenta', linestyle = 'dashed')\n",
    "    lbl1    = ax3d.text( k/16 + xr/2, k/8 + yr/2, 0, '$2x+3y=%s$' % k, color='magenta')\n",
    "    lbl2    = ax3d.text( k/8, k/4, k/2, '$z = %s$' % k, color='magenta')\n",
    "\n",
    "interact(LevelCurve, k=(0,50,1));"
   ]
  },
  {
   "cell_type": "markdown",
   "metadata": {},
   "source": [
    "Thus, we can replace working with $z=2x+3y$ in 3 dimensions by the family of level curves $$2x+3y=k, \\; k\\in\\mathbb{R}.$$  This allows us to work with the objective function in terms of the feasible region, and in fact, _it will be our preferred and indeed only approach used for visualizing the objective function._ \n",
    "\n",
    "Below we have the same visualization as above but restricted to the xy-plane. "
   ]
  },
  {
   "cell_type": "code",
   "execution_count": null,
   "metadata": {
    "collapsed": true
   },
   "outputs": [],
   "source": [
    "fig, axes = plt.subplots()\n",
    "\n",
    "#plot the Feasible Region\n",
    "vertices = [ (0,0), (15,0), (15,5), (10,10), (6,12) ]\n",
    "X,Y = zip(*vertices)\n",
    "axes.fill(X,Y, facecolor='cyan', edgecolor='black', zorder = 1)\n",
    "\n",
    "#plot the vertices\n",
    "axes.scatter(X,Y, color='brown', zorder = 2)\n",
    "for vert in vertices:\n",
    "    axes.text( vert[0], vert[1], \" ({0},{1})\".format(vert[0], vert[1]), fontsize = 14)\n",
    "\n",
    "# Label the resulting feasible region\n",
    "axes.text(5,3, '$\\Omega$', fontsize = 14 )\n",
    "\n",
    "# Plot the xy-axes and set upper bound on y\n",
    "axes.set_xlim(0,30)\n",
    "axes.set_ylim(0,20)\n",
    "axes.set_xlabel(\"x = 1000's of Standard shafts\\n\")\n",
    "axes.set_ylabel(\"y = 1000's of Engineering shafts\")\n",
    "\n",
    "Line, Label = None, None\n",
    "def LevelCurve(k):\n",
    "    global Line, Label\n",
    "    try:\n",
    "        axes.lines.remove(Line[0])\n",
    "        axes.texts.remove(Label)\n",
    "    except:\n",
    "        pass\n",
    "    \n",
    "    Line  = axes.plot( [0,k/2], [k/3,0], color='magenta' )\n",
    "    Label = axes.text( k/4, k/6, ' $2x+3y=%s$' % k, color='magenta', fontsize = 14)\n",
    "    axes.set_title('$k=%s$' % k, fontsize = 14)\n",
    "    axes.grid(True)\n",
    "\n",
    "interact(LevelCurve, k=(0,80,1));"
   ]
  },
  {
   "cell_type": "markdown",
   "metadata": {},
   "source": [
    "One immediate consequence is that we can use increasing values of $k$ to avoid computing many of the vertices.  For example, we know that $z=0$ at the origin, and as we increase $x$ from 0 to 15, the value of $k$ increases from 0 to 30 (_Try it out!!_). \n",
    "\n",
    "For $x=15$, we then increase $y$ from 0 to $5$, which increases $k$ from 30 to 45.  (_Try it out!_). \n",
    "\n",
    "We cannot continue, but must instead turn along the constraint $ x + y = 20$, along which $k$ increases from 45 to 50.  \n",
    "\n",
    "However, if we then start to move along $x+2y = 30$, then $k$ _ __ decreases__ _ from 50 to 48.  \n",
    "\n",
    "Conversely, as $k$ increases, the line $2x+3y=k$ leaves the feasible region. Thus, the answer is $z^* = 50$ corresponding to \n",
    "$$ argmax(z) = (10,10) $$\n",
    "which is to say that $(x^*,y^*) = (10,10)$. "
   ]
  }
 ],
 "metadata": {
  "kernelspec": {
   "display_name": "Python 3",
   "language": "python",
   "name": "python3"
  },
  "language_info": {
   "codemirror_mode": {
    "name": "ipython",
    "version": 3
   },
   "file_extension": ".py",
   "mimetype": "text/x-python",
   "name": "python",
   "nbconvert_exporter": "python",
   "pygments_lexer": "ipython3",
   "version": "3.6.1"
  }
 },
 "nbformat": 4,
 "nbformat_minor": 1
}
