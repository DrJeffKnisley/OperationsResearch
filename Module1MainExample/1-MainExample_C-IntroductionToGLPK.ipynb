{
 "cells": [
  {
   "cell_type": "markdown",
   "metadata": {},
   "source": [
    "<h1 align='center'  style = 'margin-bottom: 0px'> The Pencil _Shaft_ Factory </h1>\n",
    "<h2 align='center'  style = 'margin-top: 0px'> The GNU Linear Programming Kit (GLPK) </h2>\n",
    "<p>&nbsp;</p>\n",
    "\n",
    "We begin by __import__ing some Python modules we will use below:  Place your cursor in the cell below (i.e., select the cell), and then execute __[ctrl]-[enter]__."
   ]
  },
  {
   "cell_type": "code",
   "execution_count": null,
   "metadata": {
    "collapsed": true
   },
   "outputs": [],
   "source": [
    "%matplotlib notebook\n",
    "import matplotlib.pyplot as plt\n",
    "import numpy as np "
   ]
  },
  {
   "cell_type": "markdown",
   "metadata": {},
   "source": [
    "Also, you should have loaded a file called __1-MainExampleTools.py__ into the same folder as this notebook.  To see if that is the case, you can execute the next line which lists the files that are in the same folder as this notebook. "
   ]
  },
  {
   "cell_type": "code",
   "execution_count": null,
   "metadata": {
    "collapsed": true
   },
   "outputs": [],
   "source": [
    "ls"
   ]
  },
  {
   "cell_type": "markdown",
   "metadata": {},
   "source": [
    "If __1-MainExampleTools.py__ is there, then the next line should load the following commands: \n",
    "\n",
    "    add_method(object,function) -> adds function as a method of object)\n",
    "\n",
    "    plotfill(ax, \\*args, \\*\\*args) -> plot a curve and the region either above or below it\n",
    "\n",
    "    xyaxes(ax,xlabel,ylabel) -> centered axes (best if last in sequence of plot commands)\n",
    "\n",
    "Execute the next line by selecting and then __[ctrl]-[enter]__. "
   ]
  },
  {
   "cell_type": "code",
   "execution_count": null,
   "metadata": {},
   "outputs": [],
   "source": [
    "%run -i 1-MainExampleTools.py"
   ]
  },
  {
   "cell_type": "markdown",
   "metadata": {},
   "source": [
    "\n",
    "## The Question \n",
    "\n",
    "<span style=\"font-size:larger\"> \n",
    "Each day, Acme Mills receives one hardwood log which can be milled into as many as 20\n",
    "thousand pencil shafts.  They sell standard pencil shafts to a pencil\n",
    "factory for \\$2 per thousand, and they sell engineering pencil shafts\n",
    "to a drafting tools manufacturer for \\$3 per thousand. It takes 1 hour to\n",
    "make a thousand standard pencil shafts and two hours to make a thousand\n",
    "engineering pencil shafts, and they have 4 milling machines each running for\n",
    "7.5 hours each day. The pencil factory will buy all the standard shafts that\n",
    "Acme makes up to 15 thousand each day. The drafting tools\n",
    "manufacturer will buy all the engineering shafts Acme makes, but because not \n",
    "all their workers can make both types of shafts, the \n",
    "number of engineering shafts cannot exceed\n",
    "twice the number of standard shafts. How many of each type of shaft should\n",
    "they make in order to maximize their daily revenue?</span>"
   ]
  },
  {
   "cell_type": "markdown",
   "metadata": {},
   "source": [
    "<p>&nbsp;</p>\n",
    "\n",
    "## The Linear Program\n",
    "Thus, we must solve the following problem: \n",
    "$$ maximize \\; z = 2x+3y \\quad subject \\; to \\; (x,y) \\in \\Omega $$ \n",
    "\n",
    "where the feasible region $\\Omega$ is given by \n",
    "$$ \\Omega = \\left\\lbrace (x,y)\\in\\mathbb{R}^2 \\; \\; \\middle\\vert\n",
    "      \\begin{array}{c} \n",
    "        x + \\; y  \\le  20 \\\\ \n",
    "        x + 2y  \\le 30 \\\\\n",
    "        x  \\le 15 \\\\ \n",
    "        y  \\le 2x \\\\ \n",
    "        x \\ge 0, \\quad y \\ge 0\n",
    "      \\end{array}\n",
    "    \\right\\rbrace \n",
    "$$\n",
    "Similar to the way in which we stated the problem, there are 2 tasks we must address\n",
    "\n",
    "1. Determining the structure of the Feasible Region. \n",
    "\n",
    "2. Finding where the largest value of $z$ occurs over the Feasible Region. \n",
    "\n",
    "We'll focus on the feasible region to begin with. \n",
    "\n",
    "<p>&nbsp;</p>\n",
    "\n",
    "## The Feasible Region \n",
    "First, notice that all the constraints are _linear_, so that it is no surprise that the Feasible region both here and in general is a _polygon_ ( a _polyhedron_ in 3d and a _polytope_ in general).  \n",
    "\n",
    "The sides (i.e., edges) of the polygon are not an issue -- we can and have easily drawn straight lines. "
   ]
  },
  {
   "cell_type": "code",
   "execution_count": null,
   "metadata": {
    "collapsed": true
   },
   "outputs": [],
   "source": [
    "# Label the resulting feasible region\n",
    "fig, axes = plt.subplots()\n",
    "add_method(axes, plotfill)\n",
    "add_method(axes, xyspines)\n",
    "\n",
    "# redefine x\n",
    "x  = np.linspace(0,15,20)\n",
    "\n",
    "#plot the region satisfying the constraints\n",
    "axes.plotfill( x, dict( a=1, b=1, c=20), color = 'blue'  )\n",
    "axes.plotfill( x, dict( m = 2, b = 0 ), color = 'green' )\n",
    "axes.plotfill( x, dict( a=1, b=2, c=30), color= 'red' )\n",
    "\n",
    "# Label the Feasible Region \n",
    "FeasibleLabel = \"\"\"\n",
    "$\\Omega: x+y \\leq 20 $, \n",
    "     $  x + 2y \\leq 30, $ \n",
    "     $  0 \\leq y \\leq 2x, $  \n",
    "     $  0 \\leq x \\leq 15, $ \"\"\"\n",
    "axes.text(5,3, FeasibleLabel, fontsize = 14 )\n",
    "\n",
    "#Show obvious vertices\n",
    "axes.plot( [15,15],[0,5], color='brown')\n",
    "axes.scatter([0,15,15],[0,0,5], color='brown', zorder = 5)\n",
    "\n",
    "# Label the resulting feasible region\n",
    "FeasibleLabel = \"\"\"\n",
    "$\\Omega: x+y \\leq 20 $, \n",
    "     $  x + 2y \\leq 30, $ \n",
    "     $  0 \\leq y \\leq 2x, $  \n",
    "     $  0 \\leq x \\leq 15, $ \"\"\"\n",
    "axes.text(5,3, FeasibleLabel, fontsize = 14 )\n",
    "axes.text(15,5,' (15,5)', fontsize = 14)\n",
    "axes.text(15,0,' (15,0)', fontsize = 14)\n",
    "axes.text( 0,0,' (0,0)', fontsize = 14, ha = 'left', va = 'bottom')\n",
    "\n",
    "# Plot the xy-axes and set upper bound on y\n",
    "axes.set_ylim(0,20)\n",
    "axes.set_xlim(0)"
   ]
  },
  {
   "cell_type": "markdown",
   "metadata": {},
   "source": [
    "The vertices (\"corners\") on the other hand, are points in the feasible region for which some of the constraints become equalities. We show above three obvious vertices -- (0,0), (15,0), and (15,5).  \n",
    "\n",
    "Constraints that are equalities for a given vertex are called _active constraints_ for that vertex -- which implies the remaining constraints are strict inequalities and are said to be _passive_.   \n",
    "\n",
    "<h3 align=\"center\" style=\"color:blue\"> IMPORTANT: If a point $(x,y)$ satisfies a constraint as an <br/>_equality_, \n",
    "                                                  then that constraint is _active_ for that point</h3>\n",
    "\n",
    "For example, the corner point (15,5) corresponds to the two _active constraints_ \n",
    "$$ x = 15 \\quad and \\quad x+y=20$$\n",
    "The other constraints are _passive_, which corresponds to \n",
    "$$ 15 + 2(5) < 30, \\;  5 < 2(15), \\;  5 > 0, \\; and \\; 15 > 0 $$\n",
    " \n",
    "\n",
    "### There may be many vertices!\n",
    "An obvious approach in 2 dimensions is thus to take the constraints 2 at a time, set them to equalities, and then solve the resulting linear system. In general, in _r_ dimensions, given that we have $m>r$ constraints, we would take _r_ constraints at a time, set them to equalities, and then solve.  \n",
    "\n",
    "However, there is a __HUGE__ problem with this approach.<p></p> \n",
    "\n",
    "<div align='center'> <b style = 'font-size:larger'> <i style = \"color:blue\"> There can be and often are very large numbers of vertices, <br/> many of which are not corner points for the feasible region! </i></b></div>\n",
    "\n",
    "In general, the number of ways of choosing $r$ out of a possible $m$ constraints is given mathematically by \n",
    "$$ { m \\choose r} = \\frac {m!} { r! (m-r)!} \\approx \\frac {m^r}{r!} \\quad as \\quad m\\rightarrow\\infty$$\n",
    "which shows that ${m \\choose r}$ increases rapidly as $m$ increases.  For example, we have 6 constraints, which taken 2 at a time means we attempt to solve  \n",
    "$$ { 6 \\choose 2 } = 15 \\; systems \\; of\\; equations$$\n",
    "But a quick inspection shows that the feasible region is a polygon with only 5 vertices. \n",
    "\n",
    "<p>&nbsp;</p>\n",
    "\n",
    "## AMPL, MATHPROG, GLPK, and GPLSOL \n",
    "There are at this point 2 ideas which should be rather obvious.  \n",
    "\n",
    "1. We need methods that only calculate corner points for actual vertices of the Feasible region \n",
    "\n",
    "2. We need to use the constraints as \"Mathematical Objects\" that can be taken \"$r$ at a time\".   \n",
    "\n",
    "Conventional programming cannot accomplish this 2nd task, even with the most powerful computer algebra systems and linear algebra libraries.  A linear program involves inequalities, which define infinite regions, thus implying that _the only truly applicable programming language is one based on sets and similar mathematical abstractions_. \n",
    "\n",
    "Thus, the OR community created for itself __A M__athematical __P__rogramming __L__anguage (AMPL).  The AMPL language is very large, quite abstract, and only partially implemented.  \n",
    "\n",
    "Consequently, when OR researchers created the __G__nu __L__inear __P__rogramming __K__it (GLPK) that implemented a subset of the AMPL language, they used the term __MathProg__ to refer to the part of AMPL that is used by GLPK. (GNU is a project launched at MIT in the 1980's to produce software that is free and runs on most operating systems --  i.e., one of the original open source projects).   \n",
    "\n",
    "Actually, GLPK does more than just MathProg, and the python library __pyomo__ has become an important tool to go beyond what GLPK + MathProg can solve.  We'll look at pyomo briefly near the end of the course, but for now, let's start playing with GLPK and MathProg.  \n",
    "\n",
    "First, you need to realize that GLPK must be downloaded and installed (already is if you are using __ _CoCalc_ __.  In general, this means visiting either https://www.gnu.org/software/glpk/ or  http://winglpk.sourceforge.net/ for windows.   \n",
    "\n",
    "The program __glpsol__ is part of GLPK.  If GLPK is installed correctly, executing the following cell should produce the corner point (15,5) as printed output.\n",
    "\n",
    "<span style=\"color:#880000\">NOTE: You may have to specify the path to glpsol. </span>"
   ]
  },
  {
   "cell_type": "code",
   "execution_count": null,
   "metadata": {
    "collapsed": true
   },
   "outputs": [],
   "source": [
    "%%script glpsol -m /dev/stdin\n",
    "\n",
    "# declare problem variables\n",
    "var x;\n",
    "var y;\n",
    "\n",
    "# list all equations\n",
    "eqn1 : x  = 15;\n",
    "eqn2 : x + y = 20;\n",
    "\n",
    "# solve\n",
    "solve;\n",
    "\n",
    "# display results\n",
    "display x, y;\n",
    "\n",
    "end;"
   ]
  },
  {
   "cell_type": "markdown",
   "metadata": {},
   "source": [
    "In particular, __%%script__ is _magic_ that runs programs that are __NOT__ a part of Python.  Specifically, \n",
    "\n",
    "    %%script  command  \n",
    "    rest_of_cell\n",
    "\n",
    "asks the operating system to run __command__ with the __rest_of_cell__ acting as the script that the __command__ is applied to.  For our purposes, \n",
    "\n",
    "    %%script glpsol -m /dev/stdin\n",
    "    MathProg_Code\n",
    "    \n",
    "runs the program __glpsol__ on the the _standard input_ (named __stdin__).  The __MathProg_Code__ is correspondingly the code that __%%script__ sends to _standard input_, and thus what __glpsol__ runs on.   \n",
    "\n",
    "Let's do that again, this time in order to find the vertex corresponding to the active constraints \n",
    "$$ x + y = 20,  \\qquad x + 2y = 30 $$\n",
    "The solution will satisfy the remaining constraints as strict inequalities.  "
   ]
  },
  {
   "cell_type": "code",
   "execution_count": null,
   "metadata": {
    "collapsed": true
   },
   "outputs": [],
   "source": [
    "%%script glpsol -m /dev/stdin\n",
    "\n",
    "# declare problem variables\n",
    "var x;\n",
    "var y;\n",
    "\n",
    "# list all equations\n",
    "eqn1 : x +   y = 20;\n",
    "eqn2 : x + 2*y = 30;\n",
    "\n",
    "# solve\n",
    "solve;\n",
    "\n",
    "# display results\n",
    "display x, y;\n",
    "\n",
    "end;"
   ]
  },
  {
   "cell_type": "markdown",
   "metadata": {},
   "source": [
    "If glpsol ran correctly, then it should have returned values of __x.val__ and __y.val__ as (10,10), respectively.   \n",
    "\n",
    "In particular, we see that in MathProg, a \"value\" is a property of a variable.  That is, __glpsol__ is told that __x__ is a variable via the command \n",
    "\n",
    "    var x;\n",
    "    \n",
    "and upon completion, the value of __x__ corresponding to the solution is stored as __x.val__.  \n",
    "\n",
    "Notice also that the equations are _mathematical objects_.  The first equation is named __eqn1__ and the second is __eqn2__.  \n",
    "\n",
    "Now let's find the vertex corresponding to the active constraints \n",
    "$$ y = 2x \\quad and \\quad  x + 2y = 20 $$\n",
    "Once again, we declare variables, define the equations, solve, and then display the results. "
   ]
  },
  {
   "cell_type": "code",
   "execution_count": null,
   "metadata": {
    "collapsed": true
   },
   "outputs": [],
   "source": [
    "%%script glpsol -m /dev/stdin\n",
    "\n",
    "# declare problem variables\n",
    "var x;\n",
    "var y;\n",
    "\n",
    "# list all equations\n",
    "eqn1 : y = 2*x;\n",
    "eqn2 : x + 2*y = 30;\n",
    "\n",
    "# solve\n",
    "solve;\n",
    "\n",
    "# display results\n",
    "display x, y;\n",
    "\n",
    "end;"
   ]
  },
  {
   "cell_type": "markdown",
   "metadata": {},
   "source": [
    "Thus, we have corner points of \n",
    "$$ (0,0), (15,0), (15,5), (10,10), (6,12) $$ \n",
    "This allows us to plot only the feasible region.  "
   ]
  },
  {
   "cell_type": "code",
   "execution_count": null,
   "metadata": {
    "collapsed": true
   },
   "outputs": [],
   "source": [
    "fig, axes = plt.subplots()\n",
    "add_method(axes, plotfill)\n",
    "add_method(axes, xyspines)\n",
    "\n",
    "#plot the Feasible Region\n",
    "axes.plot( x, 20 - x, x, 30 - 2*x, x, (30 - x)/2, zorder = 5 )\n",
    "vertices = [ (0,0), (15,0), (15,5), (10,10), (6,12) ]\n",
    "X,Y = zip(*vertices)\n",
    "axes.fill(X,Y, facecolor='cyan', edgecolor='black', zorder = 0)\n",
    "\n",
    "#plot the vertices\n",
    "axes.scatter(X,Y, color='brown', zorder = 10)\n",
    "for vert in vertices:\n",
    "    axes.text( vert[0], vert[1], \" ({0},{1})\".format(vert[0], vert[1]), fontsize = 14)\n",
    "\n",
    "# Label the resulting feasible region\n",
    "FeasibleLabel = \"\"\"\n",
    "$\\Omega: x+y \\leq 20 $, \n",
    "     $  x + 2y \\leq 30, $ \n",
    "     $  0 \\leq y \\leq 2x, $  \n",
    "     $  0 \\leq x \\leq 15, $ \"\"\"\n",
    "axes.text(5,3, FeasibleLabel, fontsize = 14 )\n",
    "\n",
    "# Plot the xy-axes and set upper bound on y\n",
    "#axes.xyspines('$x$', '$y$', fontsize = 14)\n",
    "axes.set_ylim(0,20)\n",
    "axes.set_xlabel(\"x = 1000's of Standard shafts\\n\")\n",
    "axes.set_ylabel(\"y = 1000's of Engineering shafts\")"
   ]
  },
  {
   "cell_type": "markdown",
   "metadata": {},
   "source": [
    "Note that we relied on visualization of $\\Omega$ to avoid looking for 15 possible vertices.  Moreover, we only used __glpsol__ to find the vertices. \n",
    "\n",
    "But of course, __glpsol__ is actually designed to solve the entire linear program. "
   ]
  },
  {
   "cell_type": "code",
   "execution_count": null,
   "metadata": {
    "collapsed": true
   },
   "outputs": [],
   "source": [
    "%%script glpsol -m /dev/stdin\n",
    "\n",
    "# declare problem variables\n",
    "var x >= 0, <= 15 ;  # we can define properties for\n",
    "var y >= 0 ;  # the variables as we define them\n",
    "\n",
    "# declare the objective \n",
    "maximize z: 2*x + 3*y;       ## DON'T FORGET THOSE SEMICOLONS!!!!! \n",
    "\n",
    "# subject to the constraints\n",
    "s.t.    constraint1:   x +   y <=  20;\n",
    "        constraint2:   x + 2*y <=  30;\n",
    "        constraint3:         y <= 2*x; \n",
    "\n",
    "# solve\n",
    "solve;\n",
    "\n",
    "# display results\n",
    "display x, y, z;\n",
    "\n",
    "end;"
   ]
  },
  {
   "cell_type": "markdown",
   "metadata": {},
   "source": [
    "We don't need to know exactly how GLPK solves this problem, but we do need at least some idea as to how GLPK avoids trying to find all possible vertices as it searches for the correct one.  We'll look at that next. \n",
    "\n",
    "<p>&nbsp;</p>\n",
    "\n",
    "## Additional Examples\n",
    "\n",
    "Let's use __glpsol__ to determine the feasible region for some other linear programs. \n",
    "\n",
    "<b style = \"font-size:larger\">Example 2 :</b> Find the feasible region -- including vertices -- for the following system of inequalities: \n",
    "\\begin{eqnarray*}\n",
    "      x + y \\le 25 \\\\\n",
    "      2x + y \\le 30 \\\\\n",
    "      x + 3y \\le 45 \\\\\n",
    "      x \\ge 0, y \\ge 0\n",
    "\\end{eqnarray*} \n",
    "First, let's plot the inequalities to identify which vertices we need to find. To do so, we first solve for $y$ in each:\n",
    "\\begin{eqnarray*} \n",
    "y \\le 25 - x \\\\\n",
    "y \\le 30 - 2x \\\\\n",
    "y \\le 15 - \\frac{x}{3}\n",
    "\\end{eqnarray*}\n",
    "Then we plot the resulting inequalities: "
   ]
  },
  {
   "cell_type": "code",
   "execution_count": null,
   "metadata": {
    "collapsed": true
   },
   "outputs": [],
   "source": [
    "fig, axes = plt.subplots()\n",
    "add_method(axes, plotfill)\n",
    "\n",
    "# redefine x\n",
    "x  = np.linspace(0,15,100)\n",
    "\n",
    "#plot the region satisfying the constraints\n",
    "axes.plotfill( x, dict(a=1,b=1,c=25), color = 'blue', hatched = True, label = \"$x+y \\leq 25$\" )\n",
    "axes.plotfill( x, dict(a=2,b=1,c=30), color = 'green', hatched = True, label = \"$2x+y \\leq 30$\" )\n",
    "axes.plotfill( x, dict(a=1,b=3,c=45), color = 'red', hatched = True, label = \"$x+3y \\leq 45$\" )\n",
    "\n",
    "# Label the resulting feasible region\n",
    "axes.text(5,3, '$\\Omega$', fontsize = 14 )\n",
    "\n",
    "# restrict to first quadrant \n",
    "axes.set_xlim(0,)\n",
    "axes.set_ylim(0,)\n",
    "axes.legend();"
   ]
  },
  {
   "cell_type": "code",
   "execution_count": null,
   "metadata": {
    "collapsed": true
   },
   "outputs": [],
   "source": [
    "fig, axes = plt.subplots()\n",
    "add_method(axes, plotfill)\n",
    "\n",
    "# redefine x\n",
    "x  = np.linspace(0,15,100)\n",
    "\n",
    "#plot the region satisfying the constraints\n",
    "axes.plotfill( x, dict(a=1,b=1,c=25), color = 'blue', label = \"$x+y \\leq 25$\" )\n",
    "axes.plotfill( x, dict(a=2,b=1,c=30), color = 'green', label = \"$2x+y \\leq 30$\" )\n",
    "axes.plotfill( x, dict(a=1,b=3,c=45), color = 'red', label = \"$x+3y \\leq 45$\" )\n",
    "\n",
    "# Label the resulting feasible region\n",
    "axes.text(5,3, '$\\Omega$', fontsize = 14 )\n",
    "\n",
    "# restrict to first quadrant \n",
    "axes.set_xlim(0,)\n",
    "axes.set_ylim(0,)\n",
    "axes.legend();"
   ]
  },
  {
   "cell_type": "markdown",
   "metadata": {},
   "source": [
    "Clearly, we have the vertices (0,0), (0,15), and the x-intercept of $2x+y=30$, which is (15,0).  There are two vertices which are obviously __not__ in the feasible region -- those intersecting the line $x+y=25$.  Indeed, the constraint $x+y\\le 25$ will always be passive.  \n",
    "\n",
    "The only remaining vertex in the feasible region is the intersection of \n",
    "$$ 2x+y = 30 \\qquad and \\qquad  x + 3y = 45 $$ \n",
    "which we we find using __glpsol__. "
   ]
  },
  {
   "cell_type": "code",
   "execution_count": null,
   "metadata": {
    "collapsed": true
   },
   "outputs": [],
   "source": [
    "%%script glpsol -m /dev/stdin\n",
    "\n",
    "# declare problem variables\n",
    "var x;\n",
    "var y;\n",
    "\n",
    "# list all equations\n",
    "eqn1 : 2*x +   y = 30;\n",
    "eqn2 :   x + 3*y = 45;\n",
    "\n",
    "# solve\n",
    "solve;\n",
    "\n",
    "# display results\n",
    "display x, y;\n",
    "\n",
    "end;"
   ]
  },
  {
   "cell_type": "markdown",
   "metadata": {},
   "source": [
    "Now let's add these vertices and their labels to the figure. "
   ]
  },
  {
   "cell_type": "code",
   "execution_count": null,
   "metadata": {
    "collapsed": true
   },
   "outputs": [],
   "source": [
    "vertices = np.array( [ (0,0), (0,15), (9,12), (15,0)] ).T\n",
    "axes.scatter(*vertices, color = 'brown', zorder = 10)\n",
    "for vertex in vertices.T: \n",
    "     axes.text( *vertex, \" ({0},{1})\".format(*vertex), zorder = 10)\n",
    "fig"
   ]
  },
  {
   "cell_type": "markdown",
   "metadata": {},
   "source": [
    "If you prefer, you can also use the vertices to plot _only_ the feasible region. "
   ]
  },
  {
   "cell_type": "code",
   "execution_count": null,
   "metadata": {
    "collapsed": true
   },
   "outputs": [],
   "source": [
    "fig, axes = plt.subplots()\n",
    "\n",
    "vertices = np.array( [ (0,0), (0,15), (9,12), (15,0)] ).T\n",
    "axes.fill(*vertices, facecolor = 'cyan', edgecolor = 'black', zorder = 0 )\n",
    "axes.scatter(*vertices, color = 'brown', zorder = 1)\n",
    "for vertex in vertices.T: \n",
    "     axes.text( *vertex, \" ({0},{1})\".format(*vertex),zorder = 1)\n",
    "\n",
    "# Label the resulting feasible region\n",
    "axes.text(5,3, '$\\Omega$', fontsize = 14,  zorder = 1 )\n",
    "\n",
    "# restrict to first quadrant \n",
    "axes.set_xlim(0,)\n",
    "axes.set_ylim(0,)"
   ]
  },
  {
   "cell_type": "markdown",
   "metadata": {},
   "source": [
    "Let's look at a couple of our examples from the previous module: \n",
    "\n",
    "<b style = \"font-size:larger\">Example 3 (Overtime Cost):</b> Amco widget makers has 2 hourly employees -- Alice and Bob.  Alice makes \\$20 per hour while Bob makes \\$16 per hour, but Alice produces 25 widgets per hour while Bob produces only 20 widgets per hour.  Alice has seniority and thus must be given at least 1.5 hours of overtime for every 1 hour of overtime for Bob.  A new order for 100 widgets has just been placed as a priority rush job, so it will have to be filled using overtime.  How many hours of overtime should be alloted to Alice and Bob, respectively, if the goal is to minimize overtime pay and each is paid time and a half for each hour of overtime? \n",
    "\n",
    "__Find the vertices of the Feasible Region:__ We saw that we needed to solve the linear program\n",
    "\\begin{eqnarray*} \n",
    "minimize \\;     & z = 30x+24y \\\\\n",
    "subject \\; to\\; & 25x + 20y  \\ge 30 \\\\\n",
    "                & x  \\ge 1.5y \\\\ \n",
    "                & x \\ge 0, y \\ge 0\n",
    "\\end{eqnarray*}\n",
    "Let's plot the inequalities to see which vertices we need to obtain. \n",
    "\n",
    "Notice that we have \"great than\" inequalities in this application, so we use the __region__ option in __plotfill__:\n",
    "\n",
    "__region = 'above'__  fills the region above the curve \n",
    "\n",
    "__region = 'below'__  fills the region below the curve \n",
    "\n",
    "__region = 'to_zero'__ fills the region between the curve and the x-axis\n",
    "\n",
    "__region = 'above_zero'__ fills the region above the x-axis and below the curve (default)\n",
    "\n",
    "__region = float__  fills the region between the curve and the __float__ing point number\n",
    "\n",
    "We also notice that $x \\ge 1.5y$ is the same as $x - 1.5y \\ge 0$.  However, notice that points _below_ the line $x - 1.5y = 0$ satisfy the inequality -- such as, for example, the point (10,0).  Thus, we use the __below__ option for this constraint. "
   ]
  },
  {
   "cell_type": "code",
   "execution_count": null,
   "metadata": {
    "collapsed": true
   },
   "outputs": [],
   "source": [
    "fig, axes = plt.subplots()\n",
    "add_method(axes, plotfill)\n",
    "\n",
    "# redefine x\n",
    "x  = np.linspace(0,5,100)\n",
    "\n",
    "#plot the region satisfying the constraints\n",
    "axes.plotfill( x, dict(a=1, b=-1.5, c=0), region = 'below', color = 'green', hatched = True, label = \"$x-1.5y \\geq 0$\" )\n",
    "axes.plotfill( x, dict(a=25,b=20,c=30), region = 'above', color = 'red', hatched = True, label = \"$25x+20y \\geq 30$\" )\n",
    "\n",
    "# Label the resulting feasible region\n",
    "axes.text(3,1, '$\\Omega$', fontsize = 14 )\n",
    "\n",
    "# restrict to first quadrant \n",
    "axes.set_xlim(0,)\n",
    "axes.set_ylim(0,)\n",
    "axes.legend()"
   ]
  },
  {
   "cell_type": "markdown",
   "metadata": {},
   "source": [
    "The only vertices are the x-intercept of the line $ 25x + 20y  = 30$, which is (1.2,0), and the intersection of the lines \n",
    "$$ 25x + 20y = 30 \\qquad and \\qquad x = 1.5 y $$\n",
    "This is simple enough by hand, since \n",
    "$$  25(1.5y) + 20y = 30 \\quad \\implies \\quad 57.5y =30 \\quad \\implies \\quad y = 0.52174 $$\n",
    "to 5 places after the decimal.  Correspondingly, $x = 1.5(0.52174) = 0.78261$, so the other vertex is $(0.78261,0.52174)$. \n",
    "\n",
    "Let's verify this using __glpsol__. "
   ]
  },
  {
   "cell_type": "code",
   "execution_count": null,
   "metadata": {
    "collapsed": true
   },
   "outputs": [],
   "source": [
    "%%script glpsol -m /dev/stdin\n",
    "\n",
    "# declare problem variables\n",
    "var x;\n",
    "var y;\n",
    "\n",
    "# list all equations\n",
    "eqn1 : 25*x + 20* y = 30;\n",
    "eqn2 :    x = 1.5*y ;\n",
    "\n",
    "# solve\n",
    "solve;\n",
    "\n",
    "# display results\n",
    "display x, y;\n",
    "\n",
    "end;"
   ]
  },
  {
   "cell_type": "markdown",
   "metadata": {},
   "source": [
    "Let's add these two vertices to the figure: "
   ]
  },
  {
   "cell_type": "code",
   "execution_count": null,
   "metadata": {
    "collapsed": true
   },
   "outputs": [],
   "source": [
    "vertices = np.array( [ (1.2,0), (0.78261,0.52174) ] ).T\n",
    "axes.scatter(*vertices, color = 'brown', zorder = 10)\n",
    "for vertex in vertices.T: \n",
    "     axes.text( *vertex, \" ({0},{1})\".format(*vertex), zorder = 10)\n",
    "fig"
   ]
  },
  {
   "cell_type": "markdown",
   "metadata": {},
   "source": [
    "Let's do one more: \n",
    "\n",
    "<b style = \"font-size:larger\">Example 4  (Advertising Duration)</b> Acme wants to advertise its products and is given a table describing the number of people (in thousands) expected to view either internet or tv advertising per day, along with the suggested targets for each demographic.   \n",
    "\n",
    "| Age Demographic | 18 - 36 years | 36 - 54 | over 54 |  cost |\n",
    "|:---------------:|:-------------:|:-------:|:-------:| -----:|\n",
    "|   Internet      |        5      |    3    |    1    | \\$800 |\n",
    "|      TV         |        2      |    3    |    5    | \\$900 |\n",
    "| --------------- | ------------- | ------- | ------- | ----- |\n",
    "|   Targets       |       24      |   30    |    18   |       |\n",
    "\n",
    "If Acme allots \\$10,000 to spend on their advertising campaign and wants to at least reach their targets, what decisions for internet and TV advertising maximizes the combined duration of the advertising campaign? \n",
    "\n",
    "__Solution:__ The linear program for this problem is \n",
    "\\begin{eqnarray*} \n",
    "maximize \\;      & z = x + y   & &\\\\\n",
    "subject \\; to \\; & 800x + 900y & \\le & 10,000 \\\\\n",
    "                 &   5x +   2y & \\ge & 24 \\\\ \n",
    "                 &   3x +   3y & \\ge & 30 \\\\ \n",
    "                 &    x +   5y & \\ge & 18 \\\\ \n",
    "                 & x \\ge 0, & &y \\ge 0 \n",
    "\\end{eqnarray*}\n",
    "The first constraint requires that $y$ coordinates be __below__ the curve, whereas the remaining 3 constraints require that the $y$ coordinates be __above__ the curve. "
   ]
  },
  {
   "cell_type": "code",
   "execution_count": null,
   "metadata": {
    "collapsed": true
   },
   "outputs": [],
   "source": [
    "fig, axes = plt.subplots()\n",
    "add_method(axes, plotfill)\n",
    "\n",
    "# redefine x\n",
    "x  = np.linspace(0,15,100)\n",
    "\n",
    "#plot the region satisfying the constraints\n",
    "axes.plotfill( x, dict(a=800,b=900,c=10000), region = 'below', color = 'cyan',  \n",
    "               hatched = True, label = \"$800x+900y \\leq 10,000$\" )\n",
    "axes.plotfill( x, dict(a=5, b=2, c=24), region = 'above', color = 'blue', \n",
    "               hatched = True, label = '$5x+2y \\geq 24$' )\n",
    "axes.plotfill( x, dict(a=3, b=3, c=30), region = 'above', color = 'green', \n",
    "               hatched = True, label = '$3x+3y\\geq30$' )\n",
    "axes.plotfill( x, dict(a=1, b=5, c=18), region = 'above', color = 'red', \n",
    "               hatched = True, label = '$x+5y \\geq 18$')\n",
    "\n",
    "# Label the resulting feasible region\n",
    "axes.text(8,3, '$\\Omega$', fontsize = 14 )\n",
    "\n",
    "# restrict to first quadrant \n",
    "axes.set_xlim(0,)\n",
    "axes.set_ylim(0,12)\n",
    "axes.legend()"
   ]
  },
  {
   "cell_type": "markdown",
   "metadata": {},
   "source": [
    "There are now 4 vertices that bound the polygonal feasible region.  The x-intercepts, y-intercepts and intersection below the blue line are __not__ in the feasible region. \n",
    "\n",
    "Let's use __glpsol__ to find these vertices. "
   ]
  },
  {
   "cell_type": "code",
   "execution_count": null,
   "metadata": {
    "collapsed": true
   },
   "outputs": [],
   "source": [
    "%%script glpsol -m /dev/stdin\n",
    "\n",
    "# declare problem variables\n",
    "var x;\n",
    "var y;\n",
    "\n",
    "# list all equations\n",
    "eqn1 : 800*x + 900*y = 10000;\n",
    "eqn2 :   5*x +   2*y =    24;\n",
    "\n",
    "# solve\n",
    "solve;\n",
    "\n",
    "# display results\n",
    "display x, y;\n",
    "\n",
    "end;"
   ]
  },
  {
   "cell_type": "code",
   "execution_count": null,
   "metadata": {
    "collapsed": true
   },
   "outputs": [],
   "source": [
    "%%script glpsol -m /dev/stdin\n",
    "    \n",
    "# declare problem variables\n",
    "var x;\n",
    "var y;\n",
    "\n",
    "# list all equations\n",
    "eqn2 : 5*x + 2*y = 24;\n",
    "eqn3 : 3*x + 3*y = 30;\n",
    "\n",
    "# solve\n",
    "solve;\n",
    "\n",
    "# display results\n",
    "display x, y;\n",
    "\n",
    "end;"
   ]
  },
  {
   "cell_type": "code",
   "execution_count": null,
   "metadata": {
    "collapsed": true
   },
   "outputs": [],
   "source": [
    "%%script glpsol -m /dev/stdin\n",
    "    \n",
    "# declare problem variables\n",
    "var x;\n",
    "var y;\n",
    "\n",
    "# list all equations\n",
    "eqn3 : 3*x + 3*y = 30;\n",
    "eqn4 :   x + 5*y = 18;\n",
    "\n",
    "# solve\n",
    "solve;\n",
    "\n",
    "# display results\n",
    "display x, y;\n",
    "\n",
    "end;"
   ]
  },
  {
   "cell_type": "code",
   "execution_count": null,
   "metadata": {
    "collapsed": true
   },
   "outputs": [],
   "source": [
    "%%script glpsol -m /dev/stdin\n",
    "\n",
    "# declare problem variables\n",
    "var x;\n",
    "var y;\n",
    "\n",
    "# list all equations\n",
    "eqn4 :     x +   5*y =    18;\n",
    "eqn1 : 800*x + 900*y = 10000;\n",
    "\n",
    "# solve\n",
    "solve;\n",
    "\n",
    "# display results\n",
    "display x, y;\n",
    "\n",
    "end;"
   ]
  },
  {
   "cell_type": "markdown",
   "metadata": {},
   "source": [
    "The result is the 4 vertices $(0.55172, 10.62069)$, $(1.33333,8.66667)$, $(8,2)$, and $(10.90322,1.41935)$. Let's add them to our figure: "
   ]
  },
  {
   "cell_type": "code",
   "execution_count": null,
   "metadata": {
    "collapsed": true
   },
   "outputs": [],
   "source": [
    "vertices = np.array( [ (0.55172,10.62069), (1.33333,8.66667), (8,2), (10.90322,1.41935) ] ).T\n",
    "axes.fill(*vertices, facecolor = 'cyan', edgecolor = 'black', zorder = 5 )\n",
    "axes.scatter(*vertices, color = 'brown', zorder = 10)\n",
    "for vertex in vertices.T: \n",
    "     axes.text( *vertex, \" ({0},{1})\".format(*vertex),zorder = 10)\n",
    "\n",
    "fig"
   ]
  },
  {
   "cell_type": "markdown",
   "metadata": {},
   "source": [
    "<p>&nbsp;</p>\n",
    "\n",
    "## Exercises \n",
    "See website for solutions -- this is section 1C. \n",
    "\n",
    "You determined the linear programs for each of the following (or look at the solutions): Now find the feasible region for each, by which we mean plot the polygon and determine the coordinates of the vertices of that polygon. \n",
    "\n",
    "1. A bakery sells pies and cakes.  Each pie costs \\$2 to produce, requires a half an hour of labor, and sells for \\$3; while each cake costs \\$3, requires an hour of labor, and sells for \\$5. How many pies and cakes, respectively, should be produced in each 8 hour day if the bakery spends no more than \\$30 per day on supplies?   \n",
    "\n",
    "2. A farmer will enclose a level rectangular field on 3 sides with a fence that costs \\$5 per linear foot to build and \\$1 per linear foot to maintain each year, but on the fourth side the field will be bounded by a wall that costs \\$25 per linear foot to construct but is maintenance free after that.  What dimensions of the field will maximize its perimeter if the farmer wants to spend no more than \\$10,000 total to enclose the field and \\$1000 per year to maintain?   \n",
    "\n",
    "3. Outdoor Furniture, Inc, makes benches and picnic tables. A bench requires 60 pounds of wood and requires 1 hour of labor.  A picnic table requires 80 pounds of wood and requires 2 hours of labor.  Their goal is to maximize the total number of benches and picnic tables produced per employee given that each employee is given 2000 pounds of wood each week and works 40 hours per week.  How many of each should they _decide_ to require of each employee? \n",
    "\n",
    "4. A farmer has $20$ acres on which he will plant $x$ acres of feed corn (for animals) and $y$ acres of sweet corn (for humans). It will cost \\$1,000 per acre to grow feed corn and \\$2,000 per acre to raise sweet corn; and the farmer has \\$30,000 on hand at the beginning of the growing season.  Market analysis indicates that the number of acres of sweet corn should be no greater than twice the number of acres of feed corn, but he also wants to be taken seriously as a sweet corn producer, so he desires to grow no more than 15 acres of feed corn.  In units of thousands of dollars per acre, he knows that feed corn sells for \\$2 thousands of dollars per acre, while sweet corn sells for \\$5 thousands of dollars per acre. How many acres should he plant in feed corn, and how many in sweet corn, in order to maximize the revenue from the corn?  \n",
    "\n",
    "5. Quality Furniture makes tables and chairs. The table below has the time required for each table and chair for cutting, assembly, and finishing, with the bottom row the minutes available each day for each (480 minutes = 8 hours).  \n",
    "\n",
    "|     Item        | Cutting | Assembly | Finishing | profit |\n",
    "|:---------------:|:-------:|:--------:|:---------:| ------:|\n",
    "|    Table        |    60   |    45    |    48     |   \\$90 |\n",
    "|    Chair        |    20   |    30    |    24     |   \\$10 |\n",
    "| --------------- | ------- | -------- | --------- | ------ |\n",
    "|   Available     |   480   |   480    |    480    |        | \n",
    "\n",
    "<div style = \"margin-left:25px\">Also, Quality Furniture needs  to make at least 4 chairs for each table.  The profit from the sale of each is shown in the final column.  How many tables and chairs, respectively, should they decide to make each day in order to maximize profit? </div>"
   ]
  }
 ],
 "metadata": {
  "kernelspec": {
   "display_name": "Python 3",
   "language": "python",
   "name": "python3"
  },
  "language_info": {
   "codemirror_mode": {
    "name": "ipython",
    "version": 3
   },
   "file_extension": ".py",
   "mimetype": "text/x-python",
   "name": "python",
   "nbconvert_exporter": "python",
   "pygments_lexer": "ipython3",
   "version": "3.6.1"
  }
 },
 "nbformat": 4,
 "nbformat_minor": 2
}
