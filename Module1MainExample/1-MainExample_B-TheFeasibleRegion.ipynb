{
 "cells": [
  {
   "cell_type": "markdown",
   "metadata": {},
   "source": [
    "<h1 align='center'  style = 'margin-bottom: 0px'> The Pencil _Shaft_ Factory </h1>\n",
    "<h2 align='center'  style = 'margin-top: 0px'> The Feasible Region </h2>\n",
    "<p>&nbsp;</p>\n",
    "\n",
    " \n",
    "## The Question \n",
    "\n",
    "<span style=\"font-size:larger\"> \n",
    "Each day, Acme Mills receives one hardwood log which can be milled into as many as 20\n",
    "thousand pencil shafts.  They sell standard pencil shafts to a pencil\n",
    "factory for \\$2 per thousand, and they sell engineering pencil shafts\n",
    "to a drafting tools manufacturer for \\$3 per thousand. It takes 1 hour to\n",
    "make a thousand standard pencil shafts and two hours to make a thousand\n",
    "engineering pencil shafts, and they have 4 milling machines each running for\n",
    "7.5 hours each day. The pencil factory will buy all the standard shafts that\n",
    "Acme makes up to 15 thousand each day. The drafting tools\n",
    "manufacturer will buy all the engineering shafts Acme makes, but because not \n",
    "all their workers can make both types of shafts, the \n",
    "number of engineering shafts cannot exceed\n",
    "twice the number of standard shafts. How many of each type of shaft should\n",
    "they make in order to maximize their daily revenue?</span>"
   ]
  },
  {
   "cell_type": "markdown",
   "metadata": {},
   "source": [
    "<p>&nbsp;</p>\n",
    "\n",
    "## The Linear Program\n",
    "As we saw last time, we must solve the following problem: \n",
    "\\begin{eqnarray*} \n",
    "maximize   & z = 2x+3y \\\\\n",
    "subject \\; to & x + \\; y  \\le  20 \\\\ \n",
    "           & x + 2y  \\le 30 \\\\\n",
    "           & x  \\le 15 \\\\ \n",
    "           & y  \\le 2x \\\\ \n",
    "           & x\\ge 0, \\quad y \\ge 0\n",
    "\\end{eqnarray*}\n",
    "The answer is denoted $(x^*,y^*,z^*)$, and the values $(x^*,y^*)$ are an <i>arg</i>ument that leads to the <i>max</i>imum, or _argmax_ for short. \n",
    "\n",
    "<p>&nbsp;</p>\n",
    "## The Feasible Region\n",
    "Clearly, to be a solution, the _argmax_ $(x^*,y^*)$ must satisfy all the constraints.  We define the _Feasible Region_ to be the set of all points that satisfy all the constraints, and we often denote the feasible region by $\\Omega$. \n",
    "\n",
    "It is possible for the feasible region to be empty.  For example, there are no points $(x,y)$ that simultaneously satisfy \n",
    "$$x \\le 15 \\qquad and \\qquad x \\ge 20.$$ \n",
    "However, if the feasible region is not empty, then we can find it -- and visualize it -- by solving each of the inequalities in the constraints and determining where all their solution sets overlap.  \n",
    "\n",
    "For example, the first constraint is $$x+y \\le 20.$$  This defines a region in the _xy_-plane that is below the line $x+y = 20$. \n",
    "\n",
    "We begin by __import__ing some Python modules we will use below:  Place your cursor in the cell below (i.e., select the cell), and then execute __[ctrl]-[enter]__."
   ]
  },
  {
   "cell_type": "code",
   "execution_count": null,
   "metadata": {
    "collapsed": true
   },
   "outputs": [],
   "source": [
    "%matplotlib notebook\n",
    "import matplotlib.pyplot as plt\n",
    "import numpy as np "
   ]
  },
  {
   "cell_type": "markdown",
   "metadata": {},
   "source": [
    "Also, you should have loaded a file called __1-MainExampleTools.py__ into the same folder as this notebook.  To see if that is the case, you can execute the next line which lists the files that are in the same folder as this notebook. "
   ]
  },
  {
   "cell_type": "code",
   "execution_count": null,
   "metadata": {},
   "outputs": [],
   "source": [
    "ls"
   ]
  },
  {
   "cell_type": "markdown",
   "metadata": {},
   "source": [
    "If __1-MainExampleTools.py__ is there, then the next line should load the following commands: \n",
    "\n",
    "    add_method(object,function) -> adds function as a method of object)\n",
    "\n",
    "    plotfill(ax, \\*args, \\*\\*args) -> plot a curve and the region either above or below it\n",
    "\n",
    "    xyspines(ax,xlabel,ylabel) -> centered axes (best if last in sequence of plot commands)\n",
    "\n",
    "Execute the next line by selecting and then __[ctrl]-[enter]__. "
   ]
  },
  {
   "cell_type": "code",
   "execution_count": null,
   "metadata": {},
   "outputs": [],
   "source": [
    "%run -i 1-MainExampleTools.py"
   ]
  },
  {
   "cell_type": "markdown",
   "metadata": {},
   "source": [
    "The Feasible region is defined by the \"subject to\" part of the linear program: \n",
    "\\begin{eqnarray*}\n",
    "subject \\; to & x + \\; y  \\le  20 \\\\ \n",
    "           & x + 2y  \\le 30 \\\\\n",
    "           & x  \\le 15 \\\\ \n",
    "           & y  \\le 2x \\\\ \n",
    "           & x\\ge 0, \\quad y \\ge 0\n",
    "\\end{eqnarray*}\n",
    "The __plotfill__ requires that the first argument is the $x$ values that will determine the line, but the second argument can be either $y$ values or a __dict__ionary of coefficients for a linear equation, in which case it will calculate the $y$ values. \n",
    "\n",
    "For example, the first constraint is the region _below_ the line $x+y=20$, which in comparison to the standard form of a line\n",
    "$$ ax+by=c$$\n",
    "means that $a=1, b=1, c=20$.  The cell below uses __plotfill__ to plot this inequality. "
   ]
  },
  {
   "cell_type": "code",
   "execution_count": null,
   "metadata": {
    "collapsed": true
   },
   "outputs": [],
   "source": [
    "fig, axes = plt.subplots()\n",
    "add_method(axes, plotfill)\n",
    "add_method(axes, xyspines)\n",
    "\n",
    "#plot the region satisfying the constraint\n",
    "x = np.linspace(-5,25,100)\n",
    "\n",
    "axes.plotfill(x, dict(a=1,b=1,c=20), region = 'below')\n",
    "axes.text(5,5, r\"$ x+y \\leq 20 $\", fontsize=14 )\n",
    "\n",
    "# Plot the xy-axes\n",
    "axes.xyspines('$x$', '$y$', fontsize = 14)"
   ]
  },
  {
   "cell_type": "markdown",
   "metadata": {},
   "source": [
    "Let's combine this constraint with $x \\ge 0, y \\ge 0$. "
   ]
  },
  {
   "cell_type": "code",
   "execution_count": null,
   "metadata": {
    "collapsed": true
   },
   "outputs": [],
   "source": [
    "fig, axes = plt.subplots()\n",
    "add_method(axes, plotfill)\n",
    "add_method(axes, xyspines)\n",
    "\n",
    "#plot the region satisfying the constraint\n",
    "axes.plotfill( x[ x >= 0], dict(a=1,b=1,c=20), region = 'above_zero' )\n",
    "axes.plot(x,20 - x)\n",
    "axes.text(2,2, u\"$ x+y \\leq 20 $ \\n $ x \\geq 0, \\; y \\geq 0$\", fontsize=14 )\n",
    "\n",
    "# Plot the xy-axes\n",
    "axes.xyspines('$x$', '$y$', fontsize = 14)"
   ]
  },
  {
   "cell_type": "markdown",
   "metadata": {},
   "source": [
    "Most importantly, $x \\ge 0$ and $y \\ge 0$ constrain the feasible region to the _first quadrant_, which more generally is called the _positive cone_ of $\\mathbb{R}^2$.  So we'll now only draw the first quadrant as we combine these with $x \\le 15$. \n",
    "\n",
    "Computationally, we'll do so by redefining $x \\in [0,15]$ and recalculating the first constraint. "
   ]
  },
  {
   "cell_type": "code",
   "execution_count": null,
   "metadata": {
    "collapsed": true
   },
   "outputs": [],
   "source": [
    "fig, axes = plt.subplots()\n",
    "add_method(axes, plotfill)\n",
    "add_method(axes, xyspines)\n",
    "\n",
    "# redefine x\n",
    "x  = np.linspace(0,15,100)\n",
    "\n",
    "#plot the region satisfying the constraints\n",
    "axes.plotfill( x, dict( a=1, b=1, c=20 ), color = 'blue' )\n",
    "axes.text(2,2, u\"$ x+y \\leq 20, y \\geq 0 $ \\n $ 0 \\leq x \\leq 15$\", fontsize=14 )\n",
    "\n",
    "# Plot the xy-axes\n",
    "axes.xyspines('$x$', '$y$', fontsize = 14)"
   ]
  },
  {
   "cell_type": "markdown",
   "metadata": {},
   "source": [
    "Now let's add the constraint $y \\leq 2x$. "
   ]
  },
  {
   "cell_type": "code",
   "execution_count": null,
   "metadata": {
    "collapsed": true
   },
   "outputs": [],
   "source": [
    "fig, axes = plt.subplots()\n",
    "add_method(axes, plotfill)\n",
    "add_method(axes, xyspines)\n",
    "\n",
    "# redefine x\n",
    "x  = np.linspace(0,15,100)\n",
    "\n",
    "#plot the region satisfying the constraints\n",
    "axes.plotfill( x, dict( a=1, b=1, c=20), color = 'blue', label = \"$x+y \\leq 20$\" )\n",
    "axes.plotfill( x, dict( m = 2, b = 0 ), color = 'green', label = '$y \\leq 2x$')\n",
    "\n",
    "# Plot the xy-axes and set upper bound on y\n",
    "axes.set_ylim(0,20)\n",
    "axes.xyspines('$x$', '$y$', fontsize = 14)\n",
    "axes.legend()"
   ]
  },
  {
   "cell_type": "markdown",
   "metadata": {},
   "source": [
    "It can be a bit difficult to determine where the actual intersection of the two regions is.  Thus, there is an option called __hatched__ which can be used to better illustrate where the intersection occurs. "
   ]
  },
  {
   "cell_type": "code",
   "execution_count": null,
   "metadata": {
    "collapsed": true
   },
   "outputs": [],
   "source": [
    "fig, axes = plt.subplots()\n",
    "add_method(axes, plotfill)\n",
    "add_method(axes, xyspines)\n",
    "\n",
    "# redefine x\n",
    "x  = np.linspace(0,15,20)\n",
    "\n",
    "#plot the region satisfying the constraints\n",
    "axes.plotfill( x, dict( a=1, b=1, c=20), color = 'blue', hatched = True, label = \"$x+y \\leq 20$\" )\n",
    "axes.plotfill( x, dict( m = 2, b = 0 ), color = 'green', hatched = True, label = '$y \\leq 2x$')\n",
    "\n",
    "# Plot the xy-axes and set upper bound on y\n",
    "axes.set_ylim(0,20)\n",
    "axes.xyspines('$x$', '$y$', fontsize = 14)\n",
    "axes.legend()"
   ]
  },
  {
   "cell_type": "markdown",
   "metadata": {},
   "source": [
    "That leaves us with one more constraint -- namely that $x + 2y \\le 30$.  "
   ]
  },
  {
   "cell_type": "code",
   "execution_count": null,
   "metadata": {
    "collapsed": true
   },
   "outputs": [],
   "source": [
    "fig, axes = plt.subplots()\n",
    "add_method(axes, plotfill)\n",
    "add_method(axes, xyspines)\n",
    "\n",
    "# redefine x\n",
    "x  = np.linspace(0,15,20)\n",
    "\n",
    "#plot the region satisfying the constraints\n",
    "axes.plotfill( x, dict( a=1, b=1, c=20), color = 'blue', hatched = True, label = \"$x+y \\leq 20$\" )\n",
    "axes.plotfill( x, dict( m = 2, b = 0 ), color = 'green', hatched = True, label = '$y \\leq 2x$')\n",
    "axes.plotfill( x, dict( a=1, b=2, c=30), color= 'red', hatched = True, label = \"$x+2y\\leq 30$\")\n",
    "\n",
    "# Plot the xy-axes and set upper bound on y\n",
    "axes.set_ylim(0,20)\n",
    "axes.xyspines('$x$', '$y$', fontsize = 14)\n",
    "axes.legend()"
   ]
  },
  {
   "cell_type": "markdown",
   "metadata": {},
   "source": [
    "The region where all the regions intersect is the feasible region $\\Omega$, \n",
    "which is the set of points that satisfy all the constraints. "
   ]
  },
  {
   "cell_type": "code",
   "execution_count": null,
   "metadata": {
    "collapsed": true
   },
   "outputs": [],
   "source": [
    "# Label the resulting feasible region\n",
    "fig, axes = plt.subplots()\n",
    "add_method(axes, plotfill)\n",
    "add_method(axes, xyspines)\n",
    "\n",
    "# redefine x\n",
    "x  = np.linspace(0,15,20)\n",
    "\n",
    "#plot the region satisfying the constraints\n",
    "axes.plotfill( x, dict( a=1, b=1, c=20), color = 'blue'  )\n",
    "axes.plotfill( x, dict( m = 2, b = 0 ), color = 'green' )\n",
    "axes.plotfill( x, dict( a=1, b=2, c=30), color= 'red' )\n",
    "\n",
    "# Label the Feasible Region \n",
    "FeasibleLabel = \"\"\"\n",
    "$\\Omega: x+y \\leq 20 $, \n",
    "     $  x + 2y \\leq 30, $ \n",
    "     $  0 \\leq y \\leq 2x, $  \n",
    "     $  0 \\leq x \\leq 15, $ \"\"\"\n",
    "axes.text(5,3, FeasibleLabel, fontsize = 14 )\n",
    "\n",
    "# Plot the xy-axes and set upper bound on y\n",
    "axes.set_ylim(0,20)\n",
    "axes.xyspines('$x$', '$y$', fontsize = 14)"
   ]
  },
  {
   "cell_type": "markdown",
   "metadata": {},
   "source": [
    "So how do we graph _only_ the feasible region without visualizing all the overlaps?  That is non-trivial, and it is in fact roughly equivalent to solving the LP problem itself.  \n",
    "\n",
    "We'll look at this issue next. "
   ]
  }
 ],
 "metadata": {
  "kernelspec": {
   "display_name": "Python 3",
   "language": "python",
   "name": "python3"
  },
  "language_info": {
   "codemirror_mode": {
    "name": "ipython",
    "version": 3
   },
   "file_extension": ".py",
   "mimetype": "text/x-python",
   "name": "python",
   "nbconvert_exporter": "python",
   "pygments_lexer": "ipython3",
   "version": "3.6.1"
  }
 },
 "nbformat": 4,
 "nbformat_minor": 2
}
